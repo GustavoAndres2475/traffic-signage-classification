{
 "cells": [
  {
   "cell_type": "code",
   "execution_count": 2,
   "metadata": {
    "scrolled": true
   },
   "outputs": [
    {
     "name": "stderr",
     "output_type": "stream",
     "text": [
      "/usr/lib/python3.5/importlib/_bootstrap.py:222: RuntimeWarning: numpy.dtype size changed, may indicate binary incompatibility. Expected 96, got 88\n",
      "  return f(*args, **kwds)\n",
      "/usr/lib/python3.5/importlib/_bootstrap.py:222: RuntimeWarning: numpy.dtype size changed, may indicate binary incompatibility. Expected 96, got 88\n",
      "  return f(*args, **kwds)\n",
      "/usr/lib/python3.5/importlib/_bootstrap.py:222: RuntimeWarning: numpy.dtype size changed, may indicate binary incompatibility. Expected 96, got 88\n",
      "  return f(*args, **kwds)\n",
      "/usr/lib/python3.5/importlib/_bootstrap.py:222: RuntimeWarning: numpy.dtype size changed, may indicate binary incompatibility. Expected 96, got 88\n",
      "  return f(*args, **kwds)\n"
     ]
    }
   ],
   "source": [
    "'''*-----------------------------------------------------------------------*---\n",
    "                                                         Author: Jason Ma\n",
    "                                                         Date  : Jan 19 2019\n",
    "                              traffic-sign-classifier\n",
    "\n",
    "  File Name  : traffic-sign-classifier.py\n",
    "  Description: Trains CNN to classify traffic signs using the GTSRB dataset.\n",
    "---*-----------------------------------------------------------------------*'''\n",
    "\n",
    "import tensorflow as tf\n",
    "import cv2\n",
    "import os\n",
    "import shutil\n",
    "\n",
    "import numpy as np\n",
    "import matplotlib.pyplot as plt"
   ]
  },
  {
   "cell_type": "code",
   "execution_count": 14,
   "metadata": {},
   "outputs": [
    {
     "name": "stdout",
     "output_type": "stream",
     "text": [
      "(39223, 32, 32) (39223,)\n",
      "(12630, 32, 32) (12630,)\n",
      "done\n"
     ]
    }
   ],
   "source": [
    "#global vars\n",
    "train_dir = 'GTSRB/train/'\n",
    "test_dir  = 'GTSRB/test/'\n",
    "img_shape = (32, 32)\n",
    "n_classes = 43\n",
    "\n",
    "train_imgs = []\n",
    "train_labels = []\n",
    "\n",
    "test_imgs = []\n",
    "test_labels = []\n",
    "\n",
    "#read in train data\n",
    "for i in range(n_classes):\n",
    "  csv_path = train_dir + str(i) + '/GT-' + \"%05d\" % (i) + '.csv'\n",
    "  #print(csv_path)\n",
    "  with open(csv_path, 'r') as f:\n",
    "    line = f.readline()\n",
    "    \n",
    "    for line in f:\n",
    "      line = line.strip().split(';')\n",
    "      full_path = train_dir + str(i) + \"/\" + line[0]\n",
    "      img = cv2.imread(full_path, 0)\n",
    "      img = cv2.resize(img, img_shape)\n",
    "      train_imgs.append(img)\n",
    "      train_labels.append(int(line[7]))\n",
    "      \n",
    "      '''\n",
    "      label = int(line[7])\n",
    "      if label == 14:\n",
    "        train_labels.append(1)\n",
    "      else:\n",
    "        train_labels.append(0)\n",
    "      '''\n",
    "\n",
    "#read in test data\n",
    "csv_path = test_dir + 'GT-final_test.csv'\n",
    "\n",
    "with open(csv_path, 'r') as f:\n",
    "  line = f.readline()\n",
    "  \n",
    "  for line in f:\n",
    "    line = line.strip().split(';')\n",
    "    full_path = test_dir + line[0]\n",
    "    img = cv2.imread(full_path, 0)\n",
    "    img = cv2.resize(img, img_shape)\n",
    "    test_imgs.append(img)\n",
    "    test_labels.append(int(line[7]))\n",
    "    \n",
    "    '''\n",
    "    label = int(line[7])\n",
    "    if label == 14:\n",
    "      test_labels.append(1)\n",
    "    else:\n",
    "      test_labels.append(0)\n",
    "    '''\n",
    "    \n",
    "\n",
    "#extend training set\n",
    "for i in range(70):\n",
    "  if i % 5 == 0:\n",
    "    img = cv2.imread(\"night/%d.png\" % (i), 0)\n",
    "    img = cv2.resize(img, img_shape)\n",
    "    train_imgs.append(img)\n",
    "    train_labels.append(14)\n",
    "    #train_labels.append(1)\n",
    "\n",
    "#allocate arrays for each dataset\n",
    "train_data = np.array(train_imgs)\n",
    "train_labels = np.array(train_labels)\n",
    "print(train_data.shape, train_labels.shape)\n",
    "\n",
    "test_data = np.array(test_imgs)\n",
    "test_labels = np.array(test_labels)\n",
    "print(test_data.shape, test_labels.shape)\n",
    "\n",
    "print(\"done\")"
   ]
  },
  {
   "cell_type": "code",
   "execution_count": 15,
   "metadata": {},
   "outputs": [],
   "source": [
    "def Confusion(testData, testLabels, classifier):\n",
    "    \n",
    "    total_samples = len(testData)\n",
    "    \n",
    "    all_labels = list(set(testLabels))\n",
    "    \n",
    "    label_counts = {}\n",
    "    for l in all_labels:\n",
    "      label_counts[l] = 0\n",
    "      \n",
    "    M = np.zeros((len(all_labels), len(all_labels)))\n",
    "    \n",
    "    batchsize=50\n",
    "    correct=0.\n",
    "    for data,label in DataBatch(testData,testLabels,batchsize,shuffle=False):\n",
    "        prediction = classifier(data)\n",
    "        correct += np.sum(prediction==label)\n",
    "        \n",
    "        for i in range(len(prediction)):\n",
    "            M[label[i]][prediction[i]] += 1\n",
    "            label_counts[label[i]] += 1\n",
    "    \n",
    "    for y in range(M.shape[0]):\n",
    "      for x in range(M.shape[1]):\n",
    "        M[y][x] = M[y][x] / label_counts[all_labels[y]]\n",
    "    \n",
    "    accuracy = correct / total_samples\n",
    "    return M, accuracy\n",
    "\n",
    "def VisualizeConfusion(M):\n",
    "    plt.figure(figsize=(14, 6))\n",
    "    plt.imshow(M)\n",
    "    plt.show()\n",
    "    print(np.round(M,2))\n",
    "\n",
    "# a generator for batches of data\n",
    "# yields data (batchsize, 3, 32, 32) and labels (batchsize)\n",
    "# if shuffle, it will load batches in a random order\n",
    "def DataBatch(data, label, batchsize, shuffle=True):\n",
    "    n = data.shape[0]\n",
    "    if shuffle:\n",
    "        index = np.random.permutation(n)\n",
    "    else:\n",
    "        index = np.arange(n)\n",
    "    for i in range(int(np.ceil(n/batchsize))):\n",
    "        inds = index[i*batchsize : min(n,(i+1)*batchsize)]\n",
    "        yield data[inds], label[inds]\n",
    "\n",
    "# tests the accuracy of a classifier\n",
    "def test(testData, testLabels, classifier):\n",
    "    batchsize=50\n",
    "    correct=0.\n",
    "    for data,label in DataBatch(testData,testLabels,batchsize,shuffle=False):\n",
    "        prediction = classifier(data)\n",
    "        correct += np.sum(prediction==label)\n",
    "    return correct/testData.shape[0]*100\n",
    "\n",
    "  \n",
    "# helper function to get weight variable\n",
    "def weight_variable(shape):\n",
    "    initial = tf.truncated_normal(shape, stddev=0.01)\n",
    "    return tf.Variable(initial)\n",
    "\n",
    "# helper function to get bias variable\n",
    "def bias_variable(shape):\n",
    "    initial = tf.constant(0.1, shape=shape)\n",
    "    return tf.Variable(initial)\n",
    "\n",
    "def conv2d(x, W, stride=2):\n",
    "  return tf.nn.conv2d(x, W, strides=[1, stride, stride, 1], padding='SAME')"
   ]
  },
  {
   "cell_type": "code",
   "execution_count": 16,
   "metadata": {},
   "outputs": [
    {
     "name": "stdout",
     "output_type": "stream",
     "text": [
      "done\n"
     ]
    }
   ],
   "source": [
    "class CNNClassifier():\n",
    "  def __init__(self, sess, graph, classes=2, n=5):\n",
    "    self.sess = sess\n",
    "    self.graph = graph\n",
    "  \n",
    "  def init(self, classes=43, n=5):\n",
    "    self.x = tf.placeholder(tf.float32, shape=[None,32,32,1], name='x') # input batch of images\n",
    "    self.y_ = tf.placeholder(tf.int64, shape=[None], name='y_') # input labels\n",
    "\n",
    "    # model variables\n",
    "    self.weights = {\n",
    "      'h1': tf.Variable(tf.truncated_normal(([4*4*n*4, 300]), stddev=0.01)),\n",
    "      'out': tf.Variable(tf.truncated_normal(([300, classes]), stddev=0.01)),\n",
    "    }\n",
    "    self.kernels = {\n",
    "      'c1': tf.Variable(tf.truncated_normal(([4,4,1,n]), stddev=0.01)),\n",
    "      'c2': tf.Variable(tf.truncated_normal(([4,4,n,n*2]), stddev=0.01)),\n",
    "      'c3': tf.Variable(tf.truncated_normal(([4,4,n*2,n*4]), stddev=0.01)),\n",
    "    }\n",
    "    self.biases = {\n",
    "      'h1': tf.Variable(tf.constant(0.0001, shape=([300]))),\n",
    "      'out': tf.Variable(tf.constant(0.0001, shape=([classes])))\n",
    "    }\n",
    "\n",
    "    # linear operation\n",
    "    #conv, relu, max\n",
    "    self.c1 = conv2d(self.x, self.kernels['c1'])\n",
    "    self.r1 = tf.nn.relu(self.c1)\n",
    "    self.m1 = tf.nn.max_pool(self.r1, ksize=[1,2,2,1], strides=[1,2,2,1], padding=\"SAME\")\n",
    "    #conv, relu, max\n",
    "    self.c2 = conv2d(self.r1, self.kernels['c2'])\n",
    "    self.r2 = tf.nn.relu(self.c2)\n",
    "    self.m2 = tf.nn.max_pool(self.r2, ksize=[1,2,2,1], strides=[1,2,2,1], padding=\"SAME\")\n",
    "    #conv, relu, max\n",
    "    self.c3 = conv2d(self.r2, self.kernels['c3'])\n",
    "    self.r3 = tf.nn.relu(self.c3)\n",
    "    self.m3 = tf.nn.max_pool(self.r3, ksize=[1,2,2,1], strides=[1,2,2,1], padding=\"SAME\")\n",
    "    #fc\n",
    "    self.h1 = tf.matmul(tf.reshape(self.r3, (-1,4*4*n*4)), self.weights['h1']) + self.biases['h1']\n",
    "    #fc\n",
    "    self.y = tf.matmul(tf.reshape(self.h1,(-1,300)),self.weights['out']) + self.biases['out']\n",
    "\n",
    "    #tf.reset_default_graph()\n",
    "    self.prediction = tf.argmax(self.y,1)\n",
    "    self.cross_entropy = tf.reduce_mean(tf.nn.sparse_softmax_cross_entropy_with_logits(labels=self.y_, logits=self.y))\n",
    "    self.train_step = tf.train.AdamOptimizer(1e-4).minimize(self.cross_entropy)\n",
    "    self.correct_prediction = tf.equal(self.prediction, self.y_)\n",
    "    self.accuracy = tf.reduce_mean(tf.cast(self.correct_prediction, tf.float32))\n",
    "\n",
    "    self.sess.run(tf.global_variables_initializer())\n",
    "    \n",
    "  def train(self, trainData, trainLabels, epochs=1, batchsize=50):\n",
    "    for epoch in range(epochs):\n",
    "      for i, (data,label) in enumerate(DataBatch(trainData, trainLabels, batchsize, shuffle=True)):\n",
    "        data=np.expand_dims(data,-1)\n",
    "        _, acc = self.sess.run([self.train_step, self.accuracy], feed_dict={self.x: data, self.y_: label})\n",
    "\n",
    "      print ('Epoch:%d Accuracy: %f'%(epoch+1, test(test_data, test_labels, self)))\n",
    "  \n",
    "  def save(self, fname):\n",
    "    print(\"Saving\")\n",
    "    cwd = os.getcwd()\n",
    "    path = os.path.join(cwd, fname)\n",
    "    shutil.rmtree(path, ignore_errors=True)\n",
    "            \n",
    "    inputs = {\n",
    "      \"x\": self.x,\n",
    "      \"y_\": self.y_\n",
    "    }\n",
    "    \n",
    "    outputs = {\n",
    "      \"y\": self.y\n",
    "    }\n",
    "    \n",
    "    tf.saved_model.simple_save(self.sess, path, inputs, outputs)\n",
    "\n",
    "  def load(self, fname):\n",
    "    #self.saver = tf.train.import_meta_graph(fname)\n",
    "    #self.saver.restore(self.sess, tf.train.latest_checkpoint('./'))\n",
    "    tf.saved_model.loader.load(self.sess, [tf.saved_model.tag_constants.SERVING], fname)\n",
    "    \n",
    "    self.x = self.graph.get_tensor_by_name('x:0')\n",
    "    self.y_ = self.graph.get_tensor_by_name('y_:0')\n",
    "    self.prediction = self.graph.get_tensor_by_name('ArgMax:0')\n",
    "\n",
    "  def __call__(self, x):\n",
    "    return self.sess.run(self.prediction, feed_dict={self.x: np.expand_dims(x,-1)})\n",
    "\n",
    "  def get_first_layer_weights(self):\n",
    "    return self.sess.run(self.weights[0])\n",
    "\n",
    "print('done')"
   ]
  },
  {
   "cell_type": "code",
   "execution_count": 17,
   "metadata": {},
   "outputs": [],
   "source": [
    "#start model\n",
    "graph = tf.Graph()\n",
    "with graph.as_default():\n",
    "  sess = tf.Session(graph=graph)\n",
    "  cnnClassifier = CNNClassifier(sess, graph)"
   ]
  },
  {
   "cell_type": "code",
   "execution_count": 18,
   "metadata": {},
   "outputs": [
    {
     "name": "stdout",
     "output_type": "stream",
     "text": [
      "Epoch:1 Accuracy: 32.351544\n",
      "Epoch:2 Accuracy: 61.710214\n",
      "Epoch:3 Accuracy: 69.041964\n",
      "Epoch:4 Accuracy: 72.557403\n",
      "Epoch:5 Accuracy: 74.916865\n",
      "Epoch:6 Accuracy: 76.476643\n",
      "Epoch:7 Accuracy: 77.577197\n",
      "Epoch:8 Accuracy: 79.881235\n",
      "Epoch:9 Accuracy: 79.287411\n",
      "Epoch:10 Accuracy: 80.506730\n",
      "Saving\n",
      "WARNING:tensorflow:From /usr/local/lib/python3.5/dist-packages/tensorflow/python/saved_model/simple_save.py:85: calling SavedModelBuilder.add_meta_graph_and_variables (from tensorflow.python.saved_model.builder_impl) with legacy_init_op is deprecated and will be removed in a future version.\n",
      "Instructions for updating:\n",
      "Pass your op to the equivalent parameter main_op instead.\n",
      "INFO:tensorflow:Assets added to graph.\n",
      "INFO:tensorflow:No assets to write.\n",
      "INFO:tensorflow:SavedModel written to: /home/jam/projects/traffic-classifier/model-cccff/saved_model.pb\n"
     ]
    }
   ],
   "source": [
    "#train and save model\n",
    "with graph.as_default():\n",
    "  cnnClassifier.init()\n",
    "  cnnClassifier.train(train_data, train_labels, epochs=10)\n",
    "  cnnClassifier.save('model-cccff')"
   ]
  },
  {
   "cell_type": "code",
   "execution_count": 22,
   "metadata": {},
   "outputs": [
    {
     "name": "stdout",
     "output_type": "stream",
     "text": [
      "Epoch:1 Accuracy: 82.573238\n",
      "Epoch:2 Accuracy: 83.515439\n",
      "Epoch:3 Accuracy: 83.380839\n",
      "Epoch:4 Accuracy: 84.497229\n",
      "Epoch:5 Accuracy: 81.314331\n",
      "Epoch:6 Accuracy: 83.942993\n",
      "Epoch:7 Accuracy: 84.766429\n",
      "Epoch:8 Accuracy: 83.752969\n",
      "Epoch:9 Accuracy: 83.855899\n",
      "Epoch:10 Accuracy: 83.950911\n",
      "Saving\n",
      "INFO:tensorflow:Assets added to graph.\n",
      "INFO:tensorflow:No assets to write.\n",
      "INFO:tensorflow:SavedModel written to: /home/jam/projects/traffic-classifier/model-cccff/saved_model.pb\n"
     ]
    }
   ],
   "source": [
    "#additional training and saving\n",
    "with graph.as_default():\n",
    "  cnnClassifier.train(train_data, train_labels, epochs=10)\n",
    "  cnnClassifier.save('model-cccff')"
   ]
  },
  {
   "cell_type": "code",
   "execution_count": 7,
   "metadata": {},
   "outputs": [
    {
     "name": "stdout",
     "output_type": "stream",
     "text": [
      "INFO:tensorflow:Restoring parameters from model-cccff/variables/variables\n"
     ]
    }
   ],
   "source": [
    "#load model params\n",
    "with graph.as_default():\n",
    "  cnnClassifier.load('model-cccff')"
   ]
  },
  {
   "cell_type": "code",
   "execution_count": 23,
   "metadata": {
    "scrolled": true
   },
   "outputs": [
    {
     "name": "stdout",
     "output_type": "stream",
     "text": [
      "Acc:  0.8395091053048298\n"
     ]
    },
    {
     "data": {
      "image/png": "[encoded data removed]",
      "text/plain": [
       "<Figure size 1008x432 with 1 Axes>"
      ]
     },
     "metadata": {
      "needs_background": "light"
     },
     "output_type": "display_data"
    },
    {
     "name": "stdout",
     "output_type": "stream",
     "text": [
      "[[0.45 0.52 0.   ... 0.   0.   0.  ]\n",
      " [0.02 0.9  0.04 ... 0.   0.   0.  ]\n",
      " [0.   0.06 0.82 ... 0.   0.   0.  ]\n",
      " ...\n",
      " [0.01 0.02 0.   ... 0.44 0.   0.01]\n",
      " [0.   0.   0.   ... 0.   0.78 0.13]\n",
      " [0.   0.   0.   ... 0.   0.   0.99]]\n"
     ]
    }
   ],
   "source": [
    "M, acc = Confusion(test_data, test_labels, cnnClassifier)\n",
    "print(\"Acc: \", acc)\n",
    "VisualizeConfusion(M)"
   ]
  },
  {
   "cell_type": "code",
   "execution_count": 28,
   "metadata": {},
   "outputs": [
    {
     "name": "stdout",
     "output_type": "stream",
     "text": [
      "5 [14]\n",
      "6 [14]\n",
      "7 [14]\n",
      "8 [14]\n",
      "10 [14]\n",
      "14 [14]\n",
      "15 [14]\n",
      "16 [14]\n",
      "17 [14]\n",
      "21 [14]\n",
      "22 [14]\n",
      "11\n"
     ]
    }
   ],
   "source": [
    "def test_img(f, classifier):\n",
    "  img = cv2.imread(f, 0)\n",
    "  img = cv2.resize(img, img_shape)\n",
    "  \n",
    "  #kernel = np.array([[-1,-1,-1], [-1,9,-1], [-1,-1,-1]])\n",
    "  #img = cv2.filter2D(img, -1, kernel)\n",
    "  \n",
    "  #img = cv2.bilateralFilter(img, 5, 25, 25)\n",
    "  \n",
    "  imgs = []\n",
    "  imgs.append(img)\n",
    "  imgs = np.array(imgs)\n",
    "  prediction = classifier(imgs)\n",
    "  return prediction\n",
    "\n",
    "count = 0\n",
    "for i in range(23):\n",
    "  #if i % 5 != 0:\n",
    "  pred = test_img(\"screen/%d.png\" % (i), cnnClassifier)\n",
    "\n",
    "  if pred[0] == 14:\n",
    "    print(i, pred)\n",
    "    count += 1\n",
    "    \n",
    "print(count)\n",
    "\n",
    "#for i in range(10):\n",
    "#  for j in range(10):\n",
    "#    print(test_img(\"GTSRB/train/%d/%05d_%05d.ppm\" % (14, i, j), cnnClassifier))"
   ]
  },
  {
   "cell_type": "code",
   "execution_count": null,
   "metadata": {},
   "outputs": [],
   "source": []
  }
 ],
 "metadata": {
  "kernelspec": {
   "display_name": "Python 3",
   "language": "python",
   "name": "python3"
  },
  "language_info": {
   "codemirror_mode": {
    "name": "ipython",
    "version": 3
   },
   "file_extension": ".py",
   "mimetype": "text/x-python",
   "name": "python",
   "nbconvert_exporter": "python",
   "pygments_lexer": "ipython3",
   "version": "3.5.2"
  }
 },
 "nbformat": 4,
 "nbformat_minor": 2
}
